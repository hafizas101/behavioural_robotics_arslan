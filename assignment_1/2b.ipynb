{
 "cells": [
  {
   "cell_type": "code",
   "execution_count": 55,
   "metadata": {},
   "outputs": [],
   "source": [
    "import gym, random\n",
    "import numpy as np\n",
    "import matplotlib.pyplot as plt\n",
    "\n",
    "env = gym.make('CartPole-v0')"
   ]
  },
  {
   "cell_type": "code",
   "execution_count": 68,
   "metadata": {},
   "outputs": [
    {
     "name": "stdout",
     "output_type": "stream",
     "text": [
      "(2, 37)\n"
     ]
    }
   ],
   "source": [
    "generations = 300\n",
    "individuals = 2\n",
    "pvariance = 0.05\n",
    "ppvariance = 0.02\n",
    "nhiddens = 5\n",
    "steps = 200\n",
    "variation = 0.5\n",
    "\n",
    "ninputs = env.observation_space.shape[0]\n",
    "if (isinstance(env.action_space, gym.spaces.box.Box)):\n",
    "\tnoutputs = env.action_space.shape[0]\n",
    "else:\n",
    "\tnoutputs = env.action_space.n\n",
    "# initialize the training parameters randomly by using a gaussian distribution with average 0.0 and variance 0.1\n",
    "# biases (thresholds) are initialized to 0.0\n",
    "W1 = np.random.randn(nhiddens, ninputs) * pvariance\n",
    "W2 = np.random.randn(noutputs, nhiddens) * pvariance\n",
    "b1 = np.zeros(shape=(nhiddens, 1))\n",
    "b2 = np.zeros(shape=(noutputs, 1))\n",
    "\n",
    "num1 = W1.flatten().shape[0]\n",
    "num2 = b1.flatten().shape[0]\n",
    "num3 = W2.flatten().shape[0]\n",
    "num4 = b2.flatten().shape[0]\n",
    "\n",
    "p = W1.flatten().shape[0] + b1.flatten().shape[0] + W2.flatten().shape[0] + b2.flatten().shape[0]\n",
    "pop_size = (individuals,p)\n",
    "v = np.concatenate((W1.flatten(), b1.flatten(), W2.flatten(), b2.flatten()),axis=0)\n",
    "population = np.vstack((v,v))\n",
    "print(population.shape)"
   ]
  },
  {
   "cell_type": "code",
   "execution_count": 69,
   "metadata": {},
   "outputs": [],
   "source": [
    "best_outputs = []\n",
    "for i in range (generations):\n",
    "    reward_population = []\n",
    "    for j in range(individuals):\n",
    "        ind = population[j, :]\n",
    "        W1 = ind[0:num1].reshape(nhiddens, ninputs)\n",
    "        b1 = ind[num1:num1+num2].reshape(nhiddens, 1)\n",
    "        W2 = ind[num2:num2+num3].reshape(noutputs,nhiddens)\n",
    "        b2 = ind[num3:num3+num4].reshape(noutputs, 1)\n",
    "#         W2 = np.random.randn(noutputs, nhiddens) * pvariance\n",
    "#         b1 = np.zeros(shape=(nhiddens, 1))\n",
    "#         b2 = np.zeros(shape=(noutputs, 1))\n",
    "        state = env.reset()\n",
    "        reward_individual = 0\n",
    "        done = False\n",
    "        for step in range (steps):\n",
    "            state.resize(ninputs,1)\n",
    "            Z1 = np.dot(W1, state) + b1\n",
    "            A1 = np.tanh(Z1)\n",
    "            Z2 = np.dot(W2, A1) + b2\n",
    "            A2 = np.tanh(Z2)\n",
    "\n",
    "            if (isinstance(env.action_space, gym.spaces.box.Box)):\n",
    "                action = A2\n",
    "            else:\n",
    "                action = np.argmax(A2)\n",
    "            new_state, reward, done, info = env.step(action)\n",
    "\n",
    "            state = new_state\n",
    "            reward_individual = reward_individual + reward\n",
    "\n",
    "            if done==True:\n",
    "                break\n",
    "        reward_population.append(reward_individual)\n",
    "    fitness = np.asarray(reward_population)\n",
    "    min_loc = np.argmin(fitness)\n",
    "    max_loc = np.argmax(fitness)\n",
    "    best_outputs.append(np.max(fitness))\n",
    "    new_pop = np.random.rand(1,p)*variation\n",
    "#     population[min_loc, :] = population[max_loc, :] + new_pop\n",
    "    population[min_loc, :] = new_pop\n"
   ]
  },
  {
   "cell_type": "code",
   "execution_count": 70,
   "metadata": {},
   "outputs": [
    {
     "data": {
      "image/png": "[encoded data removed]",
      "text/plain": [
       "<Figure size 432x288 with 1 Axes>"
      ]
     },
     "metadata": {
      "needs_background": "light"
     },
     "output_type": "display_data"
    }
   ],
   "source": [
    "\n",
    "plt.plot(best_outputs)\n",
    "plt.xlabel(\"Generations\")\n",
    "plt.ylabel(\"Fitness\")\n",
    "plt.show()"
   ]
  },
  {
   "cell_type": "code",
   "execution_count": null,
   "metadata": {},
   "outputs": [],
   "source": []
  },
  {
   "cell_type": "code",
   "execution_count": null,
   "metadata": {},
   "outputs": [],
   "source": []
  }
 ],
 "metadata": {
  "kernelspec": {
   "display_name": "python37",
   "language": "python",
   "name": "python37"
  },
  "language_info": {
   "codemirror_mode": {
    "name": "ipython",
    "version": 3
   },
   "file_extension": ".py",
   "mimetype": "text/x-python",
   "name": "python",
   "nbconvert_exporter": "python",
   "pygments_lexer": "ipython3",
   "version": "3.7.6"
  }
 },
 "nbformat": 4,
 "nbformat_minor": 4
}
